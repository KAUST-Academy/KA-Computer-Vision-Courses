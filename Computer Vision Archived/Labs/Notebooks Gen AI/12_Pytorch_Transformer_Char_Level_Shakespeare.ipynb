{
  "cells": [
    {
      "cell_type": "markdown",
      "metadata": {
        "id": "fjdDh5NAgDWg"
      },
      "source": [
        "# Content\n",
        "\n",
        "In this notebook, we will train a Character level Language model using Transformer Decoder.\n",
        "\n",
        "Character level means that instead of generating complete WORDS(or a complete word at a time) like in a word level LM, our model will learn to generate individual characters(one single character at a time).\n",
        "\n",
        "This approach have a few benefits over word level LM, like:\n",
        "\n",
        "1. Smaller vocabulary size: Instead of our vocabulary size consisting of all unique word of the corpus, it simply consists of unique characters\n",
        "2. Easier tokenization: The tokenization simply consists of breaking down the text into characters\n",
        "\n",
        "For our model, we will use the Tiny Shakespeare dataset. It consists of a single text file containing a selection of works by William Shakespeare, specifically his plays.\n"
      ]
    },
    {
      "cell_type": "code",
      "execution_count": 1,
      "metadata": {
        "id": "0pdlupahkMQW"
      },
      "outputs": [],
      "source": [
        "from IPython.display import clear_output"
      ]
    },
    {
      "cell_type": "code",
      "execution_count": 2,
      "metadata": {
        "id": "3FWE3CawkDbS"
      },
      "outputs": [],
      "source": [
        "# %pip install numpy matplotlib torch tqdm requests\n",
        "\n",
        "clear_output()"
      ]
    },
    {
      "cell_type": "code",
      "execution_count": 3,
      "metadata": {
        "id": "q3BQkk4gIlAo"
      },
      "outputs": [],
      "source": [
        "import math\n",
        "\n",
        "import random\n",
        "import requests\n",
        "\n",
        "import matplotlib.pyplot as plt\n",
        "\n",
        "import torch\n",
        "import torch.nn as nn\n",
        "from torch.utils.data import Dataset, DataLoader\n",
        "\n",
        "from tqdm import tqdm"
      ]
    },
    {
      "cell_type": "markdown",
      "metadata": {
        "id": "rwzMbT_5RgWU"
      },
      "source": [
        "## Loading the data"
      ]
    },
    {
      "cell_type": "code",
      "execution_count": 4,
      "metadata": {
        "id": "lB1CrIBsI6_H"
      },
      "outputs": [],
      "source": [
        "# Load the dataset\n",
        "dataset_url = \"https://raw.githubusercontent.com/karpathy/char-rnn/master/data/tinyshakespeare/input.txt\"\n",
        "shakespeare_text = requests.get(dataset_url).text"
      ]
    },
    {
      "cell_type": "code",
      "execution_count": 5,
      "metadata": {
        "id": "B7DPBxbqQWLw"
      },
      "outputs": [],
      "source": [
        "# Create a mapping from character to index and vice versa\n",
        "\n",
        "unique_chars = sorted(list(set(shakespeare_text)))\n",
        "vocab_size = len(unique_chars)\n",
        "char_to_idx = {char: idx for idx, char in enumerate(unique_chars)}\n",
        "idx_to_char = {idx: char for idx, char in enumerate(unique_chars)}"
      ]
    },
    {
      "cell_type": "code",
      "execution_count": 6,
      "metadata": {
        "colab": {
          "base_uri": "https://localhost:8080/"
        },
        "id": "LwgUg_LQIvns",
        "outputId": "b1abf30f-5e13-46e3-9c43-b584e9f64780"
      },
      "outputs": [
        {
          "name": "stderr",
          "output_type": "stream",
          "text": [
            "100%|██████████| 1115394/1115394 [00:00<00:00, 7178854.46it/s]\n"
          ]
        }
      ],
      "source": [
        "# Encode the dataset into integer indices\n",
        "\n",
        "encoded_sp_text = torch.Tensor([char_to_idx[char] for char in tqdm(shakespeare_text)]).type(torch.long)"
      ]
    },
    {
      "cell_type": "code",
      "execution_count": 7,
      "metadata": {
        "colab": {
          "base_uri": "https://localhost:8080/"
        },
        "id": "tRNCG3atQb7Z",
        "outputId": "f2daea0e-f2c3-4ba4-96a4-0bf3ce0f8fd2"
      },
      "outputs": [
        {
          "data": {
            "text/plain": [
              "torch.Size([1115394])"
            ]
          },
          "execution_count": 7,
          "metadata": {},
          "output_type": "execute_result"
        }
      ],
      "source": [
        "encoded_sp_text.shape"
      ]
    },
    {
      "cell_type": "code",
      "execution_count": 8,
      "metadata": {},
      "outputs": [],
      "source": [
        "def encode(text):\n",
        "    encoded_txt = [char_to_idx[char] for char in text]\n",
        "    return encoded_txt\n",
        "\n",
        "def decode(encoded_seq):\n",
        "    decoded_text = ''.join([idx_to_char[idx] for idx in encoded_seq])\n",
        "    return decoded_text"
      ]
    },
    {
      "cell_type": "markdown",
      "metadata": {
        "id": "xxoY7lWBSZyc"
      },
      "source": [
        "## Defining the dataset class"
      ]
    },
    {
      "cell_type": "code",
      "execution_count": 170,
      "metadata": {
        "id": "4I3tEVP4SbnG"
      },
      "outputs": [],
      "source": [
        "class ShakeSpeareCharactersDataset(Dataset):\n",
        "\n",
        "    def __init__(self, encoded_sp_text, seq_len=100):\n",
        "\n",
        "        self.encoded_sp_text = encoded_sp_text\n",
        "        self.seq_len = seq_len\n",
        "\n",
        "    def __len__(self):\n",
        "        # We will randomly sample parts of text in this dataset and return them so we don't have a specific length, so we can define it anything.\n",
        "        # Note that this length will be used as number of samples per epoch. Increasing this will increase the number of samples processed per epoch.\n",
        "        return 15000\n",
        "\n",
        "    def __getitem__(self, idx):\n",
        "\n",
        "        start_idx = random.randint(0, len(self.encoded_sp_text) - self.seq_len)\n",
        "        end_idx = start_idx + self.seq_len\n",
        "\n",
        "        # calling torch.Tensor on a value that's already possibly tensor because:\n",
        "        # 1. If it's not a tensor, it'll be converted to one\n",
        "        # 2. If it's already a tensor, It's safer to make a copy of it and this will do just that.\n",
        "        text = torch.Tensor(self.encoded_sp_text[start_idx:end_idx])\n",
        "        return text\n"
      ]
    },
    {
      "cell_type": "code",
      "execution_count": 171,
      "metadata": {
        "id": "pYn4iMGJU3PC"
      },
      "outputs": [],
      "source": [
        "train_dataset = ShakeSpeareCharactersDataset(encoded_sp_text, seq_len=100)\n",
        "\n",
        "batch_size = 64\n",
        "train_loader = DataLoader(train_dataset, batch_size=batch_size, shuffle=True)"
      ]
    },
    {
      "cell_type": "markdown",
      "metadata": {
        "id": "cvG0TjbnRiX0"
      },
      "source": [
        "## Defining the model"
      ]
    },
    {
      "cell_type": "code",
      "execution_count": 190,
      "metadata": {
        "id": "q8PQ_xqZQgFX"
      },
      "outputs": [],
      "source": [
        "class PositionalEncoding(nn.Module):\n",
        "    def __init__(self, d_model, max_seq_length=200):\n",
        "        super(PositionalEncoding, self).__init__()\n",
        "        self.register_buffer('pe', self._get_positional_encoding(max_seq_length, d_model))\n",
        "\n",
        "    def forward(self, x):\n",
        "        return x + self.pe[:, :x.size(1), :]\n",
        "\n",
        "    def _get_positional_encoding(self, max_seq_length, d_model):\n",
        "        pe = torch.zeros(max_seq_length, d_model)\n",
        "        position = torch.arange(0, max_seq_length, dtype=torch.float).unsqueeze(1)\n",
        "        div_term = torch.exp(torch.arange(0, d_model, 2).float() * (-math.log(10000.0) / d_model))\n",
        "        pe[:, 0::2] = torch.sin(position * div_term)\n",
        "        pe[:, 1::2] = torch.cos(position * div_term)\n",
        "        pe = pe.unsqueeze(0)  # Add batch dimension\n",
        "        return pe\n",
        "\n",
        "\n",
        "# Transformer Model\n",
        "class TransformerModel(nn.Module):\n",
        "    def __init__(self, vocab_size, embedding_size, num_heads, num_layers, dropout):\n",
        "        super(TransformerModel, self).__init__()\n",
        "\n",
        "        self.vocab_size = vocab_size\n",
        "        self.embedding_size = embedding_size\n",
        "        self.num_heads = num_heads\n",
        "        self.num_layers = num_layers\n",
        "        self.dropout = dropout\n",
        "\n",
        "        self.embedding = nn.Embedding(vocab_size, embedding_size)\n",
        "        self.pe = PositionalEncoding(embedding_size)\n",
        "\n",
        "        self.decoder_layer = nn.TransformerDecoderLayer(embedding_size, num_heads, dropout=dropout, batch_first=True)\n",
        "        self.transformer_decoder = nn.TransformerDecoder(self.decoder_layer, num_layers)\n",
        "        self.fc = nn.Linear(embedding_size, vocab_size)\n",
        "    \n",
        "    def forward(self, src, mask=None):\n",
        "        src = self.embedding(src)\n",
        "\n",
        "        src = self.pe(src)\n",
        "\n",
        "        output = self.transformer_decoder(src,\n",
        "                                          torch.ones_like(src),\n",
        "                                          tgt_mask=mask,\n",
        "                                          tgt_is_causal=(True if mask is not None else False))\n",
        "        output = self.fc(output)\n",
        "        return output"
      ]
    },
    {
      "cell_type": "markdown",
      "metadata": {
        "id": "PHdkRlSgVFe_"
      },
      "source": [
        "## Training the model"
      ]
    },
    {
      "cell_type": "code",
      "execution_count": 201,
      "metadata": {},
      "outputs": [],
      "source": [
        "# Hyperparameters\n",
        "batch_size = 64\n",
        "embedding_size = 128\n",
        "num_heads = 8\n",
        "num_layers = 4\n",
        "dropout = 0.1\n",
        "num_epochs = 70\n",
        "device = 'cuda' if torch.cuda.is_available() else 'cpu'"
      ]
    },
    {
      "cell_type": "code",
      "execution_count": 202,
      "metadata": {
        "colab": {
          "base_uri": "https://localhost:8080/",
          "height": 35
        },
        "id": "CgNTNZkbWVOF",
        "outputId": "ccc3a8b9-7885-4c39-fcd3-dc2439cadde8"
      },
      "outputs": [
        {
          "data": {
            "text/plain": [
              "'cuda'"
            ]
          },
          "execution_count": 202,
          "metadata": {},
          "output_type": "execute_result"
        }
      ],
      "source": [
        "device = 'cuda' if torch.cuda.is_available() else 'cpu'\n",
        "device"
      ]
    },
    {
      "cell_type": "code",
      "execution_count": 220,
      "metadata": {
        "id": "8Hrh8_bSVMwJ"
      },
      "outputs": [],
      "source": [
        "# Model, Loss, Optimizer\n",
        "learning_rate = 1e-3\n",
        "min_lr = 1e-4\n",
        "\n",
        "model = TransformerModel(vocab_size, embedding_size, num_heads, num_layers, dropout).to(device)\n",
        "criterion = nn.CrossEntropyLoss()\n",
        "optimizer = torch.optim.Adam(model.parameters(), lr=learning_rate)\n",
        "scheduler = torch.optim.lr_scheduler.ReduceLROnPlateau(optimizer, factor=0.5, patience=5, min_lr=min_lr, threshold=1e-3)"
      ]
    },
    {
      "cell_type": "code",
      "execution_count": 221,
      "metadata": {
        "id": "tR-1Z2RbW6wG"
      },
      "outputs": [],
      "source": [
        "train_losses = []"
      ]
    },
    {
      "cell_type": "code",
      "execution_count": 240,
      "metadata": {},
      "outputs": [],
      "source": [
        "optimizer.param_groups[0]['lr'] = 1e-5"
      ]
    },
    {
      "cell_type": "code",
      "execution_count": null,
      "metadata": {
        "id": "uFhXns--RvSm"
      },
      "outputs": [],
      "source": [
        "# Training loop\n",
        "for epoch in range(num_epochs):\n",
        "\n",
        "    model.train()\n",
        "\n",
        "    epoch_losses = []\n",
        "\n",
        "    for encoded_text_batch in tqdm(train_loader):\n",
        "\n",
        "        encoded_text_batch = encoded_text_batch.to(device)\n",
        "\n",
        "        inputs, targets = encoded_text_batch[..., :-1], encoded_text_batch[..., 1:]\n",
        "        # mask = nn.Transformer.generate_square_subsequent_mask(inputs.shape[-1]).unsqueeze(0).to(inputs.device)\n",
        "        mask = nn.Transformer.generate_square_subsequent_mask(inputs.shape[-1]).to(inputs.device)\n",
        "        # mask = None\n",
        "\n",
        "        # Forward pass\n",
        "        outputs = model(inputs, mask)\n",
        "\n",
        "        outputs = outputs.reshape(-1, vocab_size)\n",
        "        targets = targets.reshape(-1)\n",
        "\n",
        "        loss = criterion(outputs, targets)\n",
        "\n",
        "        epoch_losses.append(loss.item())\n",
        "\n",
        "        # Backward and optimize\n",
        "        optimizer.zero_grad()\n",
        "        loss.backward()\n",
        "        optimizer.step()\n",
        "\n",
        "    epoch_loss = sum(epoch_losses) / len(epoch_losses)\n",
        "\n",
        "    scheduler.step(epoch_loss)\n",
        "    train_losses.append(epoch_loss)\n",
        "\n",
        "    if (epoch + 1) % 1 == 0:\n",
        "        print(f'Epoch [{epoch + 1}/{num_epochs}], Loss: {(epoch_loss):.4f}')\n",
        "\n",
        "    t_outputs = torch.argmax(outputs.detach().cpu(), dim=-1).tolist()"
      ]
    },
    {
      "cell_type": "code",
      "execution_count": 242,
      "metadata": {},
      "outputs": [
        {
          "data": {
            "text/plain": [
              "torch.Size([6336, 65])"
            ]
          },
          "execution_count": 242,
          "metadata": {},
          "output_type": "execute_result"
        }
      ],
      "source": [
        "outputs.shape"
      ]
    },
    {
      "cell_type": "code",
      "execution_count": 243,
      "metadata": {},
      "outputs": [
        {
          "data": {
            "text/plain": [
              "torch.Size([6336, 65])"
            ]
          },
          "execution_count": 243,
          "metadata": {},
          "output_type": "execute_result"
        }
      ],
      "source": [
        "outputs.shape"
      ]
    },
    {
      "cell_type": "code",
      "execution_count": 244,
      "metadata": {},
      "outputs": [
        {
          "data": {
            "text/plain": [
              "1e-05"
            ]
          },
          "execution_count": 244,
          "metadata": {},
          "output_type": "execute_result"
        }
      ],
      "source": [
        "optimizer.param_groups[0]['lr']"
      ]
    },
    {
      "cell_type": "code",
      "execution_count": 245,
      "metadata": {
        "colab": {
          "base_uri": "https://localhost:8080/",
          "height": 472
        },
        "id": "_gh9ak33aVcs",
        "outputId": "a567c72e-fa9b-47e5-9b5e-82de96a87da5"
      },
      "outputs": [
        {
          "data": {
            "image/png": "[encoded data removed]",
            "text/plain": [
              "<Figure size 640x480 with 1 Axes>"
            ]
          },
          "metadata": {},
          "output_type": "display_data"
        }
      ],
      "source": [
        "plt.plot(train_losses)\n",
        "plt.xlabel('Epoch')\n",
        "plt.ylabel('Loss')\n",
        "plt.title('Training Loss')\n",
        "plt.show()"
      ]
    },
    {
      "cell_type": "markdown",
      "metadata": {
        "id": "LS9tyBABf0Hd"
      },
      "source": [
        "## Testing the model"
      ]
    },
    {
      "cell_type": "code",
      "execution_count": 246,
      "metadata": {
        "id": "m27ZHL58Wk6D"
      },
      "outputs": [],
      "source": [
        "# Function to generate text\n",
        "def generate_text(model, start_text, length):\n",
        "    model.eval()\n",
        "    input_seq = torch.tensor(encode(start_text), dtype=torch.long).unsqueeze(0).to(device)\n",
        "    generated_seq = input_seq.tolist()[0]\n",
        "\n",
        "    for _ in range(length):\n",
        "        with torch.no_grad():\n",
        "            output = model(input_seq)\n",
        "            next_char = torch.argmax(output[:, -1, :], dim=-1).item()\n",
        "            generated_seq.append(next_char)\n",
        "            input_seq = torch.cat([input_seq, torch.tensor([[next_char]], device=device)], dim=1)\n",
        "\n",
        "    return decode(generated_seq)"
      ]
    },
    {
      "cell_type": "code",
      "execution_count": 251,
      "metadata": {
        "colab": {
          "base_uri": "https://localhost:8080/"
        },
        "id": "xbInMvqnZz9b",
        "outputId": "befa80b1-922c-4382-d3ab-7a339d16b40b"
      },
      "outputs": [
        {
          "name": "stdout",
          "output_type": "stream",
          "text": [
            "To be or noth there throw there throw\n",
            "That the pardon there thing thereth his seenses.\n",
            "\n",
            "Provident, tho tho tho t\n"
          ]
        }
      ],
      "source": [
        "# Example generation\n",
        "start_str = \"To be or not\"\n",
        "generated_text = generate_text(model, start_str, 100)\n",
        "print(generated_text)"
      ]
    },
    {
      "cell_type": "code",
      "execution_count": null,
      "metadata": {},
      "outputs": [],
      "source": []
    },
    {
      "cell_type": "code",
      "execution_count": null,
      "metadata": {},
      "outputs": [],
      "source": []
    }
  ],
  "metadata": {
    "accelerator": "GPU",
    "colab": {
      "gpuType": "T4",
      "provenance": []
    },
    "kernelspec": {
      "display_name": "Python 3",
      "name": "python3"
    },
    "language_info": {
      "codemirror_mode": {
        "name": "ipython",
        "version": 3
      },
      "file_extension": ".py",
      "mimetype": "text/x-python",
      "name": "python",
      "nbconvert_exporter": "python",
      "pygments_lexer": "ipython3",
      "version": "3.11.2"
    }
  },
  "nbformat": 4,
  "nbformat_minor": 0
}
