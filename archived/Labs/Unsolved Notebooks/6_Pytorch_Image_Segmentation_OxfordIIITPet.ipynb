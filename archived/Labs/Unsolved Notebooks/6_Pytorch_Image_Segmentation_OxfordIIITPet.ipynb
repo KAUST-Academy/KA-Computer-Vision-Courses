{
  "cells": [
    {
      "cell_type": "code",
      "execution_count": 1,
      "metadata": {
        "id": "4jqoe7nS3xT_"
      },
      "outputs": [],
      "source": [
        "from IPython.display import clear_output"
      ]
    },
    {
      "cell_type": "code",
      "execution_count": 2,
      "metadata": {
        "id": "0RGxgOMe7B2B"
      },
      "outputs": [],
      "source": [
        "# Download the required libraries (needed when running outside colab where the environment doesn't come pre-loaded with libraries)\n",
        "\n",
        "%pip install torch\n",
        "%pip install torchvision\n",
        "%pip install matplotlib\n",
        "\n",
        "clear_output()"
      ]
    },
    {
      "cell_type": "code",
      "execution_count": 3,
      "metadata": {
        "id": "xW3mAziC7D73"
      },
      "outputs": [],
      "source": [
        "import torch\n",
        "import torch.nn as nn\n",
        "\n",
        "from torchvision.datasets import OxfordIIITPet\n",
        "from torchvision.transforms.functional import to_tensor, to_pil_image, resize, pil_to_tensor\n",
        "from torchvision import transforms\n",
        "\n",
        "from torch.utils.data import DataLoader\n",
        "from torch.optim import Adam\n",
        "\n",
        "import matplotlib.pyplot as plt"
      ]
    },
    {
      "cell_type": "markdown",
      "metadata": {
        "id": "rUv7wA7HXGpu"
      },
      "source": [
        "# Contents:\n",
        "\n",
        "1. In this notebook, you'll make and train a custom Image segmentation model for OxfordIIITPet dataset.\n",
        "2. When training is complete, show your model's performance by taking a few unseen images, running the through the model to get their segmentation masks, and then dsplaying the images and their masks\n",
        "\n",
        "About OxfordIIITPet:\n",
        "\n",
        "The dataset consists of images of pets. each pixel's corresponding mask value is as follows:\n",
        "\n",
        "- 1 = Pet pixel.\n",
        "- 2 = background pixel.\n",
        "- 3 = border around the pet."
      ]
    },
    {
      "cell_type": "markdown",
      "metadata": {},
      "source": [
        "## Preparing the dataset"
      ]
    },
    {
      "cell_type": "code",
      "execution_count": 5,
      "metadata": {
        "id": "Ti9SUwCyaAnN"
      },
      "outputs": [],
      "source": [
        "class SubtractOne(nn.Module):\n",
        "\n",
        "  def forward(self, img):\n",
        "    return img-1"
      ]
    },
    {
      "cell_type": "code",
      "execution_count": null,
      "metadata": {
        "colab": {
          "base_uri": "https://localhost:8080/"
        },
        "id": "0TSNqpvhGs4M",
        "outputId": "939a700c-f2ba-4395-bca6-69e315800625"
      },
      "outputs": [],
      "source": [
        "target_transforms = transforms.Compose([\n",
        "    transforms.PILToTensor(),\n",
        "    transforms.Resize((256, 256), interpolation=transforms.InterpolationMode.NEAREST),\n",
        "    SubtractOne()  # need to subtract 1 from the target to bring it from 1-3 range to 0-2 range\n",
        "])\n",
        "\n",
        "img_transforms = transforms.Compose([\n",
        "    transforms.ToTensor(),\n",
        "    transforms.Resize((256, 256), interpolation=transforms.InterpolationMode.NEAREST)\n",
        "])\n",
        "\n",
        "\n",
        "train_dataset = OxfordIIITPet(root='data/train/', split=\"trainval\",\n",
        "                              target_types=\"segmentation\", download=True,\n",
        "                              transform=img_transforms, target_transform=target_transforms)\n",
        "test_dataset  = OxfordIIITPet(root='data/test/' , split=\"test\",\n",
        "                              target_types=\"segmentation\", download=True,\n",
        "                              transform=img_transforms, target_transform=target_transforms)"
      ]
    },
    {
      "cell_type": "markdown",
      "metadata": {},
      "source": [
        "### Define model\n",
        "\n",
        "Define the architecture for the image segmentation model according to the dataset"
      ]
    },
    {
      "cell_type": "code",
      "execution_count": 8,
      "metadata": {
        "id": "OOJIcAkAKBJ8"
      },
      "outputs": [],
      "source": []
    },
    {
      "cell_type": "markdown",
      "metadata": {
        "id": "sfdqslilYh2E"
      },
      "source": [
        "### Training The model"
      ]
    },
    {
      "cell_type": "code",
      "execution_count": null,
      "metadata": {},
      "outputs": [],
      "source": []
    },
    {
      "cell_type": "markdown",
      "metadata": {
        "id": "M8g0fZiTYjxj"
      },
      "source": [
        "### Post-training performance"
      ]
    },
    {
      "cell_type": "code",
      "execution_count": 17,
      "metadata": {
        "id": "kvrR2uCyJMgU"
      },
      "outputs": [],
      "source": []
    }
  ],
  "metadata": {
    "accelerator": "GPU",
    "colab": {
      "gpuType": "T4",
      "provenance": []
    },
    "kernelspec": {
      "display_name": "Python 3",
      "name": "python3"
    },
    "language_info": {
      "name": "python",
      "version": "3.11.2"
    }
  },
  "nbformat": 4,
  "nbformat_minor": 0
}
